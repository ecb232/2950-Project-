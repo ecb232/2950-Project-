{
 "cells": [
  {
   "cell_type": "markdown",
   "id": "ignored-bridge",
   "metadata": {},
   "source": [
    "# Project Phase II\n",
    "### Manon, Eva, Jamie, and Sophie\n"
   ]
  },
  {
   "cell_type": "markdown",
   "id": "liberal-classroom",
   "metadata": {},
   "source": [
    "## Instructions\n",
    "Phase II: Data collection and exploratory data analysis. Due Mar 17. \n",
    "* Settle on a single idea and state your research question(s) clearly.\n",
    "* Carry out most of your data collection and cleaning.\n",
    "* Compute some relevant summary statistics, and show some plots of your data, as applicable to your research question(s). Use this exploratory data analysis to:\n",
    "    * update your research question(s), if applicable;\n",
    "    * update your data description, if applicable (e.g. if you collect additional data).\n",
    "* Submit an executed Jupyter notebook (.ipynb) file on CMS with the following sections:\n",
    "* Research question(s). State your research question(s) clearly.\n",
    "* Data collection and cleaning. Have an initial draft of your data cleaning appendix. Document every step that takes your raw data file(s) and turns it into the analysis-ready data set that you would submit with your final project. Include text cells describing your data collection (downloading, scraping, surveys, etc), and text cells describing any additional data curation/cleaning (merging data frames, filtering, transformations of variables, etc). Include code cells for data curation/cleaning, but not collection. Note: You should be saving data in intermediate files at several points through this process so that you are not starting from scratch every time you change something. This also makes sure you have documentation for everything that you have done for your reference, but we do not necessarily need to see all of it in code form.\n",
    "* Data description. Have an initial draft of your data description section. Your data description should be about your analysis-ready data. \n",
    "* Data limitations. Identify any potential problems with your dataset. \n",
    "* Exploratory data analysis. Perform an (initial) exploratory data analysis. \n",
    "* Questions for reviewers. List specific questions for your peer reviewers and project mentor to answer in giving you feedback on this phase."
   ]
  },
  {
   "cell_type": "markdown",
   "id": "cordless-bailey",
   "metadata": {},
   "source": [
    "## Research Questions:\n",
    "* "
   ]
  },
  {
   "cell_type": "markdown",
   "id": "peripheral-routine",
   "metadata": {},
   "source": [
    "## Data Collection and Cleaning"
   ]
  },
  {
   "cell_type": "markdown",
   "id": "little-friend",
   "metadata": {},
   "source": [
    "## Data Description"
   ]
  },
  {
   "cell_type": "markdown",
   "id": "according-participant",
   "metadata": {},
   "source": [
    "## Data Limitations"
   ]
  },
  {
   "cell_type": "markdown",
   "id": "controversial-printer",
   "metadata": {},
   "source": [
    "## Exploratory Data Analysis"
   ]
  },
  {
   "cell_type": "markdown",
   "id": "devoted-crime",
   "metadata": {},
   "source": [
    "## Questions for Reviewers"
   ]
  },
  {
   "cell_type": "code",
   "execution_count": null,
   "id": "static-cassette",
   "metadata": {},
   "outputs": [],
   "source": []
  }
 ],
 "metadata": {
  "kernelspec": {
   "display_name": "Python 3",
   "language": "python",
   "name": "python3"
  },
  "language_info": {
   "codemirror_mode": {
    "name": "ipython",
    "version": 3
   },
   "file_extension": ".py",
   "mimetype": "text/x-python",
   "name": "python",
   "nbconvert_exporter": "python",
   "pygments_lexer": "ipython3",
   "version": "3.9.2"
  }
 },
 "nbformat": 4,
 "nbformat_minor": 5
}
